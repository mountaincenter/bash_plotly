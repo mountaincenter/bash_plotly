{
 "cells": [
  {
   "cell_type": "code",
   "execution_count": 1,
   "id": "730a3030",
   "metadata": {},
   "outputs": [
    {
     "name": "stdout",
     "output_type": "stream",
     "text": [
      "          date       stock_name  code sector_indices  weight     size_class  \\\n",
      "0     20250731               極洋  1301         水産・農林業  0.0066  TOPIX Small 2   \n",
      "1     20250731             ニッスイ  1332         水産・農林業  0.0297   TOPIX Mid400   \n",
      "2     20250731           マルハニチロ  1333         水産・農林業  0.0156   TOPIX Mid400   \n",
      "3     20250731       ユキグニファクトリー  1375         水産・農林業  0.0032  TOPIX Small 2   \n",
      "4     20250731            カネコ種苗  1376         水産・農林業  0.0013  TOPIX Small 2   \n",
      "...        ...              ...   ...            ...     ...            ...   \n",
      "1677  20250731             スズケン  9987            卸売業  0.0444   TOPIX Mid400   \n",
      "1678  20250731           サンドラッグ  9989            小売業  0.0383   TOPIX Mid400   \n",
      "1679  20250731  サックスバー　ホールディングス  9990            小売業   0.002  TOPIX Small 2   \n",
      "1680  20250731             ジェコス  9991            卸売業   0.002  TOPIX Small 2   \n",
      "1681  20250731             ベルーナ  9997            小売業  0.0059  TOPIX Small 1   \n",
      "\n",
      "      ticker  \n",
      "0     1301.T  \n",
      "1     1332.T  \n",
      "2     1333.T  \n",
      "3     1375.T  \n",
      "4     1376.T  \n",
      "...      ...  \n",
      "1677  9987.T  \n",
      "1678  9989.T  \n",
      "1679  9990.T  \n",
      "1680  9991.T  \n",
      "1681  9997.T  \n",
      "\n",
      "[1682 rows x 7 columns]\n"
     ]
    }
   ],
   "source": [
    "import pyarrow as pa\n",
    "try:\n",
    "    pa.unregister_extension_type(\"pandas.period\")\n",
    "except Exception:\n",
    "    pass  # 未登録なら無視\n",
    "\n",
    "import pandas as pd\n",
    "df = pd.read_parquet(\"data/parquet/topixweight_j.parquet\", engine=\"pyarrow\")\n",
    "print(df)"
   ]
  },
  {
   "cell_type": "code",
   "execution_count": null,
   "id": "831d6917",
   "metadata": {},
   "outputs": [],
   "source": []
  }
 ],
 "metadata": {
  "kernelspec": {
   "display_name": "3.12.3",
   "language": "python",
   "name": "python3"
  },
  "language_info": {
   "codemirror_mode": {
    "name": "ipython",
    "version": 3
   },
   "file_extension": ".py",
   "mimetype": "text/x-python",
   "name": "python",
   "nbconvert_exporter": "python",
   "pygments_lexer": "ipython3",
   "version": "3.12.3"
  }
 },
 "nbformat": 4,
 "nbformat_minor": 5
}
