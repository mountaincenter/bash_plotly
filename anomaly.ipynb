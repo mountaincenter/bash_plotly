{
 "cells": [
  {
   "cell_type": "code",
   "execution_count": 5,
   "id": "cde71b03",
   "metadata": {},
   "outputs": [
    {
     "data": {
      "text/plain": [
       "(30, ['2914.T', '3382.T', '4063.T', '4502.T', '4568.T'])"
      ]
     },
     "execution_count": 5,
     "metadata": {},
     "output_type": "execute_result"
    }
   ],
   "source": [
    "# %% [markdown]\n",
    "# # Core30 Monthly Matrix Source (max_1mo)\n",
    "# - 入力: ./data/parquet/core30_meta.parquet（{ticker} 必須）\n",
    "# - 取得: yfinance(period=\"max\", interval=\"1mo\") の月次終値\n",
    "# - 出力: ./data/parquet/core30_anomaly.parquet\n",
    "# - スキーマ: [\"ticker\",\"year\",\"month\",\"return_pct\"]\n",
    "#   * return_pct は 前月比(%)、年×月ヒートマップの元データ\n",
    "\n",
    "from pathlib import Path\n",
    "import pandas as pd\n",
    "import numpy as np\n",
    "import yfinance as yf\n",
    "\n",
    "META_PARQUET = Path(\"./data/parquet/core30_meta.parquet\")\n",
    "OUT_PARQUET  = Path(\"./data/parquet/core30_anomaly.parquet\")\n",
    "\n",
    "if not META_PARQUET.exists():\n",
    "    raise FileNotFoundError(f\"not found: {META_PARQUET}\")\n",
    "\n",
    "meta = pd.read_parquet(META_PARQUET, engine=\"pyarrow\")\n",
    "if \"ticker\" not in meta.columns:\n",
    "    raise ValueError(\"meta parquet must contain 'ticker'\")\n",
    "\n",
    "tickers = (\n",
    "    meta[\"ticker\"].dropna().astype(\"string\").str.strip().unique().tolist()\n",
    ")\n",
    "if not tickers:\n",
    "    raise RuntimeError(\"No tickers found in core30_meta.parquet\")\n",
    "\n",
    "len(tickers), tickers[:5]\n"
   ]
  },
  {
   "cell_type": "code",
   "execution_count": 6,
   "id": "eca2308b",
   "metadata": {},
   "outputs": [
    {
     "name": "stdout",
     "output_type": "stream",
     "text": [
      "[5/30] processed...\n",
      "[10/30] processed...\n",
      "[15/30] processed...\n",
      "[20/30] processed...\n",
      "[25/30] processed...\n",
      "[30/30] processed...\n",
      "[OK] saved: /Users/hiroyukiyamanaka/Desktop/python_stock/dash_plotly/data/parquet/core30_anomaly.parquet rows=8690\n"
     ]
    },
    {
     "data": {
      "application/vnd.microsoft.datawrangler.viewer.v0+json": {
       "columns": [
        {
         "name": "index",
         "rawType": "int64",
         "type": "integer"
        },
        {
         "name": "ticker",
         "rawType": "object",
         "type": "string"
        },
        {
         "name": "year",
         "rawType": "int64",
         "type": "integer"
        },
        {
         "name": "month",
         "rawType": "int64",
         "type": "integer"
        },
        {
         "name": "return_pct",
         "rawType": "float64",
         "type": "float"
        }
       ],
       "ref": "e298968f-56da-440c-8c6d-442607951536",
       "rows": [
        [
         "0",
         "2914.T",
         "2000",
         "2",
         "-11.599099099099098"
        ],
        [
         "1",
         "2914.T",
         "2000",
         "3",
         "-6.369426751592355"
        ],
        [
         "2",
         "2914.T",
         "2000",
         "4",
         "8.163265306122458"
        ],
        [
         "3",
         "2914.T",
         "2000",
         "5",
         "3.7735849056603765"
        ],
        [
         "4",
         "2914.T",
         "2000",
         "6",
         "12.848484848484842"
        ]
       ],
       "shape": {
        "columns": 4,
        "rows": 5
       }
      },
      "text/html": [
       "<div>\n",
       "<style scoped>\n",
       "    .dataframe tbody tr th:only-of-type {\n",
       "        vertical-align: middle;\n",
       "    }\n",
       "\n",
       "    .dataframe tbody tr th {\n",
       "        vertical-align: top;\n",
       "    }\n",
       "\n",
       "    .dataframe thead th {\n",
       "        text-align: right;\n",
       "    }\n",
       "</style>\n",
       "<table border=\"1\" class=\"dataframe\">\n",
       "  <thead>\n",
       "    <tr style=\"text-align: right;\">\n",
       "      <th></th>\n",
       "      <th>ticker</th>\n",
       "      <th>year</th>\n",
       "      <th>month</th>\n",
       "      <th>return_pct</th>\n",
       "    </tr>\n",
       "  </thead>\n",
       "  <tbody>\n",
       "    <tr>\n",
       "      <th>0</th>\n",
       "      <td>2914.T</td>\n",
       "      <td>2000</td>\n",
       "      <td>2</td>\n",
       "      <td>-11.599099</td>\n",
       "    </tr>\n",
       "    <tr>\n",
       "      <th>1</th>\n",
       "      <td>2914.T</td>\n",
       "      <td>2000</td>\n",
       "      <td>3</td>\n",
       "      <td>-6.369427</td>\n",
       "    </tr>\n",
       "    <tr>\n",
       "      <th>2</th>\n",
       "      <td>2914.T</td>\n",
       "      <td>2000</td>\n",
       "      <td>4</td>\n",
       "      <td>8.163265</td>\n",
       "    </tr>\n",
       "    <tr>\n",
       "      <th>3</th>\n",
       "      <td>2914.T</td>\n",
       "      <td>2000</td>\n",
       "      <td>5</td>\n",
       "      <td>3.773585</td>\n",
       "    </tr>\n",
       "    <tr>\n",
       "      <th>4</th>\n",
       "      <td>2914.T</td>\n",
       "      <td>2000</td>\n",
       "      <td>6</td>\n",
       "      <td>12.848485</td>\n",
       "    </tr>\n",
       "  </tbody>\n",
       "</table>\n",
       "</div>"
      ],
      "text/plain": [
       "   ticker  year  month  return_pct\n",
       "0  2914.T  2000      2  -11.599099\n",
       "1  2914.T  2000      3   -6.369427\n",
       "2  2914.T  2000      4    8.163265\n",
       "3  2914.T  2000      5    3.773585\n",
       "4  2914.T  2000      6   12.848485"
      ]
     },
     "execution_count": 6,
     "metadata": {},
     "output_type": "execute_result"
    }
   ],
   "source": [
    "# %% Build year-month matrix source from max_1mo\n",
    "def _download_monthly_close(ticker: str) -> pd.Series:\n",
    "    \"\"\"\n",
    "    yfinance(period=\"max\", interval=\"1mo\") の Close を返す。\n",
    "    Index: Timestamp（月次）/ 値: float\n",
    "    \"\"\"\n",
    "    try:\n",
    "        df = yf.download(ticker, period=\"max\", interval=\"1mo\", progress=False, auto_adjust=False)\n",
    "    except Exception:\n",
    "        df = pd.DataFrame()\n",
    "\n",
    "    if df is None or df.empty:\n",
    "        return pd.Series(dtype=float, name=ticker)\n",
    "\n",
    "    if not isinstance(df.columns, pd.MultiIndex):\n",
    "        if \"Close\" in df.columns:\n",
    "            s = df[\"Close\"]\n",
    "        else:\n",
    "            return pd.Series(dtype=float, name=ticker)\n",
    "    else:\n",
    "        if (\"Close\", ticker) in df.columns:\n",
    "            s = df[(\"Close\", ticker)]\n",
    "        else:\n",
    "            if \"Close\" in df.columns.get_level_values(0):\n",
    "                s = df.xs(\"Close\", axis=1, level=0)\n",
    "            elif \"Close\" in df.columns.get_level_values(1):\n",
    "                s = df.xs(\"Close\", axis=1, level=1)\n",
    "            else:\n",
    "                return pd.Series(dtype=float, name=ticker)\n",
    "            if isinstance(s, pd.DataFrame):\n",
    "                s = s[ticker] if ticker in s.columns else s.iloc[:, 0]\n",
    "\n",
    "    s = pd.to_numeric(s.squeeze(), errors=\"coerce\").dropna()\n",
    "    s.index = pd.to_datetime(s.index)  # 月末寄せのタイムスタンプ\n",
    "    s.name = ticker\n",
    "    return s\n",
    "\n",
    "rows = []\n",
    "for i, tic in enumerate(tickers, 1):\n",
    "    s_close = _download_monthly_close(tic)\n",
    "    if s_close.empty:\n",
    "        continue\n",
    "\n",
    "    # 月次リターン（%）\n",
    "    ret_m = s_close.pct_change() * 100.0\n",
    "    ret_m = ret_m.dropna()\n",
    "    if ret_m.empty:\n",
    "        continue\n",
    "\n",
    "    df = (\n",
    "        ret_m.to_frame(\"return_pct\")\n",
    "             .assign(year=lambda d: d.index.year,\n",
    "                     month=lambda d: d.index.month)\n",
    "             [[\"year\",\"month\",\"return_pct\"]]\n",
    "             .astype({\"year\":\"int64\",\"month\":\"int64\"})\n",
    "    )\n",
    "    df[\"ticker\"] = tic\n",
    "    rows.append(df[[\"ticker\",\"year\",\"month\",\"return_pct\"]])\n",
    "\n",
    "    if i % 5 == 0:\n",
    "        print(f\"[{i}/{len(tickers)}] processed...\")\n",
    "\n",
    "if not rows:\n",
    "    raise RuntimeError(\"No monthly returns computed.\")\n",
    "\n",
    "out = pd.concat(rows, ignore_index=True)\n",
    "OUT_PARQUET.parent.mkdir(parents=True, exist_ok=True)\n",
    "out.to_parquet(OUT_PARQUET, engine=\"pyarrow\", index=False)\n",
    "\n",
    "print(f\"[OK] saved: {OUT_PARQUET.resolve()} rows={len(out)}\")\n",
    "out.head()\n",
    "\n"
   ]
  },
  {
   "cell_type": "code",
   "execution_count": null,
   "id": "cd5d1aa6",
   "metadata": {},
   "outputs": [],
   "source": []
  }
 ],
 "metadata": {
  "kernelspec": {
   "display_name": "3.12.3",
   "language": "python",
   "name": "python3"
  },
  "language_info": {
   "codemirror_mode": {
    "name": "ipython",
    "version": 3
   },
   "file_extension": ".py",
   "mimetype": "text/x-python",
   "name": "python",
   "nbconvert_exporter": "python",
   "pygments_lexer": "ipython3",
   "version": "3.12.3"
  }
 },
 "nbformat": 4,
 "nbformat_minor": 5
}
